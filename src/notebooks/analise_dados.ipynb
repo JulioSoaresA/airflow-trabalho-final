{
 "cells": [
  {
   "cell_type": "code",
   "execution_count": 1,
   "metadata": {},
   "outputs": [
    {
     "name": "stdout",
     "output_type": "stream",
     "text": [
      "Requirement already satisfied: pandas in /home/aluno/Documents/curso2/venv/lib/python3.9/site-packages (1.5.2)\n",
      "Requirement already satisfied: matplotlib in /home/aluno/Documents/curso2/venv/lib/python3.9/site-packages (3.6.2)\n",
      "Requirement already satisfied: numpy>=1.20.3 in /home/aluno/Documents/curso2/venv/lib/python3.9/site-packages (from pandas) (1.23.5)\n",
      "Requirement already satisfied: pytz>=2020.1 in /home/aluno/Documents/curso2/venv/lib/python3.9/site-packages (from pandas) (2022.1)\n",
      "Requirement already satisfied: python-dateutil>=2.8.1 in /home/aluno/Documents/curso2/venv/lib/python3.9/site-packages (from pandas) (2.8.2)\n",
      "Requirement already satisfied: packaging>=20.0 in /home/aluno/Documents/curso2/venv/lib/python3.9/site-packages (from matplotlib) (21.3)\n",
      "Requirement already satisfied: fonttools>=4.22.0 in /home/aluno/Documents/curso2/venv/lib/python3.9/site-packages (from matplotlib) (4.38.0)\n",
      "Requirement already satisfied: kiwisolver>=1.0.1 in /home/aluno/Documents/curso2/venv/lib/python3.9/site-packages (from matplotlib) (1.4.4)\n",
      "Requirement already satisfied: cycler>=0.10 in /home/aluno/Documents/curso2/venv/lib/python3.9/site-packages (from matplotlib) (0.11.0)\n",
      "Requirement already satisfied: pillow>=6.2.0 in /home/aluno/Documents/curso2/venv/lib/python3.9/site-packages (from matplotlib) (9.3.0)\n",
      "Requirement already satisfied: pyparsing>=2.2.1 in /home/aluno/Documents/curso2/venv/lib/python3.9/site-packages (from matplotlib) (2.4.7)\n",
      "Requirement already satisfied: contourpy>=1.0.1 in /home/aluno/Documents/curso2/venv/lib/python3.9/site-packages (from matplotlib) (1.0.6)\n",
      "Requirement already satisfied: six>=1.5 in /home/aluno/Documents/curso2/venv/lib/python3.9/site-packages (from python-dateutil>=2.8.1->pandas) (1.16.0)\n",
      "\u001B[33mWARNING: You are using pip version 22.0.4; however, version 22.3.1 is available.\n",
      "You should consider upgrading via the '/home/aluno/Documents/curso2/venv/bin/python3.9 -m pip install --upgrade pip' command.\u001B[0m\u001B[33m\n",
      "\u001B[0m"
     ]
    }
   ],
   "source": [
    "! pip install pandas matplotlib"
   ]
  },
  {
   "cell_type": "code",
   "execution_count": 1,
   "metadata": {
    "ExecuteTime": {
     "end_time": "2023-12-15T04:24:53.373974Z",
     "start_time": "2023-12-15T04:24:52.763692Z"
    }
   },
   "outputs": [],
   "source": [
    "import pandas as pd"
   ]
  },
  {
   "cell_type": "code",
   "execution_count": 16,
   "metadata": {
    "ExecuteTime": {
     "end_time": "2023-12-15T04:30:25.933478700Z",
     "start_time": "2023-12-15T04:30:25.913473100Z"
    }
   },
   "outputs": [],
   "source": [
    "df = pd.read_json(\"/home/julioubuntu/Projects/EGD/airflow-trabalho-final/datalake/Gold/twitter_datascience/process_date=2023-12-09/part-00000-6a855ed2-76b4-47b6-a221-5acb58438d3a-c000.json\", lines=True)"
   ]
  },
  {
   "cell_type": "code",
   "execution_count": 17,
   "metadata": {
    "ExecuteTime": {
     "end_time": "2023-12-15T04:30:29.581608900Z",
     "start_time": "2023-12-15T04:30:29.561531900Z"
    }
   },
   "outputs": [
    {
     "data": {
      "text/plain": "  created_date  n_tweets  n_like  n_quote  n_reply  n_retweet weekday\n0   2023-12-10        10     571      510      408        535     Sun\n1   2023-12-09        19    1131     1109     1150        912     Sat",
      "text/html": "<div>\n<style scoped>\n    .dataframe tbody tr th:only-of-type {\n        vertical-align: middle;\n    }\n\n    .dataframe tbody tr th {\n        vertical-align: top;\n    }\n\n    .dataframe thead th {\n        text-align: right;\n    }\n</style>\n<table border=\"1\" class=\"dataframe\">\n  <thead>\n    <tr style=\"text-align: right;\">\n      <th></th>\n      <th>created_date</th>\n      <th>n_tweets</th>\n      <th>n_like</th>\n      <th>n_quote</th>\n      <th>n_reply</th>\n      <th>n_retweet</th>\n      <th>weekday</th>\n    </tr>\n  </thead>\n  <tbody>\n    <tr>\n      <th>0</th>\n      <td>2023-12-10</td>\n      <td>10</td>\n      <td>571</td>\n      <td>510</td>\n      <td>408</td>\n      <td>535</td>\n      <td>Sun</td>\n    </tr>\n    <tr>\n      <th>1</th>\n      <td>2023-12-09</td>\n      <td>19</td>\n      <td>1131</td>\n      <td>1109</td>\n      <td>1150</td>\n      <td>912</td>\n      <td>Sat</td>\n    </tr>\n  </tbody>\n</table>\n</div>"
     },
     "execution_count": 17,
     "metadata": {},
     "output_type": "execute_result"
    }
   ],
   "source": [
    "df.head()"
   ]
  },
  {
   "cell_type": "code",
   "execution_count": 18,
   "metadata": {
    "ExecuteTime": {
     "end_time": "2023-12-15T04:30:33.331629700Z",
     "start_time": "2023-12-15T04:30:33.285933900Z"
    }
   },
   "outputs": [],
   "source": [
    "df.created_date = pd.to_datetime(df.created_date)"
   ]
  },
  {
   "cell_type": "code",
   "execution_count": 19,
   "metadata": {
    "ExecuteTime": {
     "end_time": "2023-12-15T04:30:35.760294100Z",
     "start_time": "2023-12-15T04:30:35.518401300Z"
    }
   },
   "outputs": [
    {
     "data": {
      "text/plain": "<Axes: xlabel='weekday'>"
     },
     "execution_count": 19,
     "metadata": {},
     "output_type": "execute_result"
    },
    {
     "data": {
      "text/plain": "<Figure size 640x480 with 1 Axes>",
      "image/png": "[encoded data removed]"
     },
     "metadata": {},
     "output_type": "display_data"
    }
   ],
   "source": [
    "df.groupby(\"weekday\").agg({\n",
    "    'n_tweets': 'sum',\n",
    "    'n_like': 'sum',\n",
    "    'n_quote': 'sum',\n",
    "    'n_reply': 'sum'\n",
    "}).reset_index().plot(kind=\"bar\", x=\"weekday\", y=[\"n_tweets\", \"n_like\", \"n_quote\", \"n_reply\"])\n"
   ]
  }
 ],
 "metadata": {
  "kernelspec": {
   "display_name": "Python 3.9.15 ('venv': venv)",
   "language": "python",
   "name": "python3"
  },
  "language_info": {
   "codemirror_mode": {
    "name": "ipython",
    "version": 3
   },
   "file_extension": ".py",
   "mimetype": "text/x-python",
   "name": "python",
   "nbconvert_exporter": "python",
   "pygments_lexer": "ipython3",
   "version": "3.9.15"
  },
  "orig_nbformat": 4,
  "vscode": {
   "interpreter": {
    "hash": "024e09e3dcbd5e7a8df4d408c73b010e4f8e45582e2d9d26f4e9413e4fe91340"
   }
  }
 },
 "nbformat": 4,
 "nbformat_minor": 2
}
