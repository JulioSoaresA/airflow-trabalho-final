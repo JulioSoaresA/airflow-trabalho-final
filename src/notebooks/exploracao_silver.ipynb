{
 "cells": [
  {
   "cell_type": "code",
   "execution_count": 1,
   "metadata": {
    "ExecuteTime": {
     "end_time": "2023-12-15T04:31:35.650774400Z",
     "start_time": "2023-12-15T04:31:35.452865300Z"
    }
   },
   "outputs": [],
   "source": [
    "from pyspark.sql import SparkSession"
   ]
  },
  {
   "cell_type": "code",
   "execution_count": 2,
   "metadata": {
    "ExecuteTime": {
     "end_time": "2023-12-15T04:31:47.415848400Z",
     "start_time": "2023-12-15T04:31:37.703429200Z"
    }
   },
   "outputs": [
    {
     "name": "stderr",
     "output_type": "stream",
     "text": [
      "bash: warning: setlocale: LC_ALL: cannot change locale (en_US.UTF-8)\n",
      "bash: warning: setlocale: LC_ALL: cannot change locale (en_US.UTF-8)\n"
     ]
    },
    {
     "name": "stdout",
     "output_type": "stream",
     "text": [
      "23/12/15 01:31:42 WARN Utils: Your hostname, JulioPC resolves to a loopback address: 127.0.1.1; using 172.27.58.37 instead (on interface eth0)\n",
      "23/12/15 01:31:42 WARN Utils: Set SPARK_LOCAL_IP if you need to bind to another address\n"
     ]
    },
    {
     "name": "stderr",
     "output_type": "stream",
     "text": [
      "Setting default log level to \"WARN\".\n",
      "To adjust logging level use sc.setLogLevel(newLevel). For SparkR, use setLogLevel(newLevel).\n"
     ]
    },
    {
     "name": "stdout",
     "output_type": "stream",
     "text": [
      "23/12/15 01:31:44 WARN NativeCodeLoader: Unable to load native-hadoop library for your platform... using builtin-java classes where applicable\n"
     ]
    }
   ],
   "source": [
    "spark = SparkSession\\\n",
    "    .builder\\\n",
    "    .appName(\"twitter_silver\")\\\n",
    "    .getOrCreate()"
   ]
  },
  {
   "cell_type": "code",
   "execution_count": 4,
   "metadata": {
    "ExecuteTime": {
     "end_time": "2023-12-15T04:32:47.911278800Z",
     "start_time": "2023-12-15T04:32:38.913654100Z"
    }
   },
   "outputs": [
    {
     "name": "stderr",
     "output_type": "stream",
     "text": [
      "                                                                                \r"
     ]
    }
   ],
   "source": [
    "df_tweet = spark.read.json(\"/home/julioubuntu/Projects/EGD/airflow-trabalho-final/datalake/Silver/twitter_datascience/tweet\")"
   ]
  },
  {
   "cell_type": "code",
   "execution_count": 5,
   "metadata": {
    "ExecuteTime": {
     "end_time": "2023-12-15T04:32:51.734006500Z",
     "start_time": "2023-12-15T04:32:51.715409Z"
    }
   },
   "outputs": [],
   "source": [
    "from pyspark.sql import functions as f"
   ]
  },
  {
   "cell_type": "code",
   "execution_count": 6,
   "metadata": {
    "ExecuteTime": {
     "end_time": "2023-12-15T04:32:54.594909Z",
     "start_time": "2023-12-15T04:32:54.506749400Z"
    }
   },
   "outputs": [
    {
     "name": "stdout",
     "output_type": "stream",
     "text": [
      "root\n",
      " |-- author_id: string (nullable = true)\n",
      " |-- conversation_id: string (nullable = true)\n",
      " |-- created_at: string (nullable = true)\n",
      " |-- id: string (nullable = true)\n",
      " |-- like_count: long (nullable = true)\n",
      " |-- quote_count: long (nullable = true)\n",
      " |-- reply_count: long (nullable = true)\n",
      " |-- retweet_count: long (nullable = true)\n",
      " |-- text: string (nullable = true)\n",
      " |-- process_date: date (nullable = true)\n"
     ]
    }
   ],
   "source": [
    "df_tweet.printSchema()"
   ]
  },
  {
   "cell_type": "code",
   "execution_count": 7,
   "metadata": {
    "ExecuteTime": {
     "end_time": "2023-12-15T04:32:58.199260400Z",
     "start_time": "2023-12-15T04:32:57.982837900Z"
    }
   },
   "outputs": [],
   "source": [
    "tweet_conversas = df_tweet.alias(\"tweet\")\\\n",
    "        .groupBy(f.to_date(\"created_at\").alias(\"created_date\"))\\\n",
    "        .agg(\n",
    "            f.countDistinct(\"author_id\").alias(\"n_tweets\"),\n",
    "            f.sum(\"like_count\").alias(\"n_like\"),\n",
    "            f.sum(\"quote_count\").alias(\"n_quote\"),\n",
    "            f.sum(\"reply_count\").alias(\"n_reply\"),\n",
    "            f.sum(\"retweet_count\").alias(\"n_retweet\")\n",
    "        ).withColumn(\"weekday\", f.date_format(\"created_date\", \"E\"))"
   ]
  },
  {
   "cell_type": "code",
   "execution_count": 8,
   "metadata": {
    "ExecuteTime": {
     "end_time": "2023-12-15T04:33:04.837606900Z",
     "start_time": "2023-12-15T04:33:00.554681400Z"
    }
   },
   "outputs": [
    {
     "name": "stderr",
     "output_type": "stream",
     "text": [
      "[Stage 1:>                                                          (0 + 6) / 6]\r"
     ]
    },
    {
     "name": "stdout",
     "output_type": "stream",
     "text": [
      "+------------+--------+------+-------+-------+---------+-------+\n",
      "|created_date|n_tweets|n_like|n_quote|n_reply|n_retweet|weekday|\n",
      "+------------+--------+------+-------+-------+---------+-------+\n",
      "|  2023-12-09|      19|  1131|   1109|   1150|      912|    Sat|\n",
      "|  2023-12-10|      10|   571|    510|    408|      535|    Sun|\n",
      "|  2023-12-11|      42|  2393|   2357|   2964|     2415|    Mon|\n",
      "|  2023-12-12|      10|   512|    399|    435|      420|    Tue|\n",
      "|  2023-12-13|       9|   376|    475|    636|      510|    Wed|\n",
      "|  2023-12-14|      10|   708|    554|    520|      376|    Thu|\n",
      "+------------+--------+------+-------+-------+---------+-------+\n"
     ]
    },
    {
     "name": "stderr",
     "output_type": "stream",
     "text": [
      "                                                                                \r"
     ]
    }
   ],
   "source": [
    "tweet_conversas.orderBy(\"created_date\").show()"
   ]
  }
 ],
 "metadata": {
  "kernelspec": {
   "display_name": "Python 3.9.15 ('venv': venv)",
   "language": "python",
   "name": "python3"
  },
  "language_info": {
   "codemirror_mode": {
    "name": "ipython",
    "version": 3
   },
   "file_extension": ".py",
   "mimetype": "text/x-python",
   "name": "python",
   "nbconvert_exporter": "python",
   "pygments_lexer": "ipython3",
   "version": "3.9.15"
  },
  "orig_nbformat": 4,
  "vscode": {
   "interpreter": {
    "hash": "024e09e3dcbd5e7a8df4d408c73b010e4f8e45582e2d9d26f4e9413e4fe91340"
   }
  }
 },
 "nbformat": 4,
 "nbformat_minor": 2
}
